{
 "cells": [
  {
   "cell_type": "markdown",
   "metadata": {},
   "source": [
    "<center><h1>Chang_Yi_HW8</h1></center>"
   ]
  },
  {
   "cell_type": "markdown",
   "metadata": {},
   "source": [
    "Name: Yi Chang\n",
    "<br>\n",
    "Github Username: Evangeline-Chang\n",
    "<br>\n",
    "USC ID: 1959039727"
   ]
  },
  {
   "cell_type": "markdown",
   "metadata": {},
   "source": [
    "## 1. Supervised, Semi-Supervised, and Unsupervised Learning"
   ]
  },
  {
   "cell_type": "markdown",
   "metadata": {},
   "source": [
    "Import packages"
   ]
  },
  {
   "cell_type": "code",
   "execution_count": 53,
   "metadata": {},
   "outputs": [],
   "source": [
    "import pandas as pd\n",
    "import numpy as np\n",
    "import statistics\n",
    "import random as rand\n",
    "from tqdm import tqdm\n",
    "import matplotlib.pyplot as plt\n",
    "from sklearn.model_selection import train_test_split, cross_val_score, GridSearchCV, StratifiedKFold\n",
    "from sklearn.preprocessing import StandardScaler, LabelEncoder\n",
    "from sklearn.svm import LinearSVC\n",
    "from sklearn import metrics\n",
    "from sklearn.cluster import KMeans, SpectralClustering\n",
    "from sklearn.neighbors import NearestNeighbors\n",
    "import matplotlib.pyplot as plt\n",
    "from sklearn.metrics import roc_curve, auc, confusion_matrix, precision_score, recall_score, accuracy_score, f1_score\n",
    "from scipy.special import softmax\n",
    "\n",
    "import warnings\n",
    "warnings.filterwarnings(\"ignore\")"
   ]
  },
  {
   "cell_type": "markdown",
   "metadata": {},
   "source": [
    "### (a) Download the Breast Cancer Wisconsin (Diagnostic) Data Set"
   ]
  },
  {
   "cell_type": "code",
   "execution_count": 2,
   "metadata": {},
   "outputs": [
    {
     "data": {
      "text/html": [
       "<div>\n",
       "<style scoped>\n",
       "    .dataframe tbody tr th:only-of-type {\n",
       "        vertical-align: middle;\n",
       "    }\n",
       "\n",
       "    .dataframe tbody tr th {\n",
       "        vertical-align: top;\n",
       "    }\n",
       "\n",
       "    .dataframe thead th {\n",
       "        text-align: right;\n",
       "    }\n",
       "</style>\n",
       "<table border=\"1\" class=\"dataframe\">\n",
       "  <thead>\n",
       "    <tr style=\"text-align: right;\">\n",
       "      <th></th>\n",
       "      <th>Diagnosis</th>\n",
       "      <th>A_1</th>\n",
       "      <th>A_2</th>\n",
       "      <th>A_3</th>\n",
       "      <th>A_4</th>\n",
       "      <th>A_5</th>\n",
       "      <th>A_6</th>\n",
       "      <th>A_7</th>\n",
       "      <th>A_8</th>\n",
       "      <th>A_9</th>\n",
       "      <th>...</th>\n",
       "      <th>A_21</th>\n",
       "      <th>A_22</th>\n",
       "      <th>A_23</th>\n",
       "      <th>A_24</th>\n",
       "      <th>A_25</th>\n",
       "      <th>A_26</th>\n",
       "      <th>A_27</th>\n",
       "      <th>A_28</th>\n",
       "      <th>A_29</th>\n",
       "      <th>A_30</th>\n",
       "    </tr>\n",
       "  </thead>\n",
       "  <tbody>\n",
       "    <tr>\n",
       "      <th>0</th>\n",
       "      <td>-1</td>\n",
       "      <td>17.99</td>\n",
       "      <td>10.38</td>\n",
       "      <td>122.80</td>\n",
       "      <td>1001.0</td>\n",
       "      <td>0.11840</td>\n",
       "      <td>0.27760</td>\n",
       "      <td>0.3001</td>\n",
       "      <td>0.14710</td>\n",
       "      <td>0.2419</td>\n",
       "      <td>...</td>\n",
       "      <td>25.38</td>\n",
       "      <td>17.33</td>\n",
       "      <td>184.60</td>\n",
       "      <td>2019.0</td>\n",
       "      <td>0.1622</td>\n",
       "      <td>0.6656</td>\n",
       "      <td>0.7119</td>\n",
       "      <td>0.2654</td>\n",
       "      <td>0.4601</td>\n",
       "      <td>0.11890</td>\n",
       "    </tr>\n",
       "    <tr>\n",
       "      <th>1</th>\n",
       "      <td>-1</td>\n",
       "      <td>20.57</td>\n",
       "      <td>17.77</td>\n",
       "      <td>132.90</td>\n",
       "      <td>1326.0</td>\n",
       "      <td>0.08474</td>\n",
       "      <td>0.07864</td>\n",
       "      <td>0.0869</td>\n",
       "      <td>0.07017</td>\n",
       "      <td>0.1812</td>\n",
       "      <td>...</td>\n",
       "      <td>24.99</td>\n",
       "      <td>23.41</td>\n",
       "      <td>158.80</td>\n",
       "      <td>1956.0</td>\n",
       "      <td>0.1238</td>\n",
       "      <td>0.1866</td>\n",
       "      <td>0.2416</td>\n",
       "      <td>0.1860</td>\n",
       "      <td>0.2750</td>\n",
       "      <td>0.08902</td>\n",
       "    </tr>\n",
       "    <tr>\n",
       "      <th>2</th>\n",
       "      <td>-1</td>\n",
       "      <td>19.69</td>\n",
       "      <td>21.25</td>\n",
       "      <td>130.00</td>\n",
       "      <td>1203.0</td>\n",
       "      <td>0.10960</td>\n",
       "      <td>0.15990</td>\n",
       "      <td>0.1974</td>\n",
       "      <td>0.12790</td>\n",
       "      <td>0.2069</td>\n",
       "      <td>...</td>\n",
       "      <td>23.57</td>\n",
       "      <td>25.53</td>\n",
       "      <td>152.50</td>\n",
       "      <td>1709.0</td>\n",
       "      <td>0.1444</td>\n",
       "      <td>0.4245</td>\n",
       "      <td>0.4504</td>\n",
       "      <td>0.2430</td>\n",
       "      <td>0.3613</td>\n",
       "      <td>0.08758</td>\n",
       "    </tr>\n",
       "    <tr>\n",
       "      <th>3</th>\n",
       "      <td>-1</td>\n",
       "      <td>11.42</td>\n",
       "      <td>20.38</td>\n",
       "      <td>77.58</td>\n",
       "      <td>386.1</td>\n",
       "      <td>0.14250</td>\n",
       "      <td>0.28390</td>\n",
       "      <td>0.2414</td>\n",
       "      <td>0.10520</td>\n",
       "      <td>0.2597</td>\n",
       "      <td>...</td>\n",
       "      <td>14.91</td>\n",
       "      <td>26.50</td>\n",
       "      <td>98.87</td>\n",
       "      <td>567.7</td>\n",
       "      <td>0.2098</td>\n",
       "      <td>0.8663</td>\n",
       "      <td>0.6869</td>\n",
       "      <td>0.2575</td>\n",
       "      <td>0.6638</td>\n",
       "      <td>0.17300</td>\n",
       "    </tr>\n",
       "    <tr>\n",
       "      <th>4</th>\n",
       "      <td>-1</td>\n",
       "      <td>20.29</td>\n",
       "      <td>14.34</td>\n",
       "      <td>135.10</td>\n",
       "      <td>1297.0</td>\n",
       "      <td>0.10030</td>\n",
       "      <td>0.13280</td>\n",
       "      <td>0.1980</td>\n",
       "      <td>0.10430</td>\n",
       "      <td>0.1809</td>\n",
       "      <td>...</td>\n",
       "      <td>22.54</td>\n",
       "      <td>16.67</td>\n",
       "      <td>152.20</td>\n",
       "      <td>1575.0</td>\n",
       "      <td>0.1374</td>\n",
       "      <td>0.2050</td>\n",
       "      <td>0.4000</td>\n",
       "      <td>0.1625</td>\n",
       "      <td>0.2364</td>\n",
       "      <td>0.07678</td>\n",
       "    </tr>\n",
       "  </tbody>\n",
       "</table>\n",
       "<p>5 rows × 31 columns</p>\n",
       "</div>"
      ],
      "text/plain": [
       "   Diagnosis    A_1    A_2     A_3     A_4      A_5      A_6     A_7      A_8  \\\n",
       "0         -1  17.99  10.38  122.80  1001.0  0.11840  0.27760  0.3001  0.14710   \n",
       "1         -1  20.57  17.77  132.90  1326.0  0.08474  0.07864  0.0869  0.07017   \n",
       "2         -1  19.69  21.25  130.00  1203.0  0.10960  0.15990  0.1974  0.12790   \n",
       "3         -1  11.42  20.38   77.58   386.1  0.14250  0.28390  0.2414  0.10520   \n",
       "4         -1  20.29  14.34  135.10  1297.0  0.10030  0.13280  0.1980  0.10430   \n",
       "\n",
       "      A_9  ...   A_21   A_22    A_23    A_24    A_25    A_26    A_27    A_28  \\\n",
       "0  0.2419  ...  25.38  17.33  184.60  2019.0  0.1622  0.6656  0.7119  0.2654   \n",
       "1  0.1812  ...  24.99  23.41  158.80  1956.0  0.1238  0.1866  0.2416  0.1860   \n",
       "2  0.2069  ...  23.57  25.53  152.50  1709.0  0.1444  0.4245  0.4504  0.2430   \n",
       "3  0.2597  ...  14.91  26.50   98.87   567.7  0.2098  0.8663  0.6869  0.2575   \n",
       "4  0.1809  ...  22.54  16.67  152.20  1575.0  0.1374  0.2050  0.4000  0.1625   \n",
       "\n",
       "     A_29     A_30  \n",
       "0  0.4601  0.11890  \n",
       "1  0.2750  0.08902  \n",
       "2  0.3613  0.08758  \n",
       "3  0.6638  0.17300  \n",
       "4  0.2364  0.07678  \n",
       "\n",
       "[5 rows x 31 columns]"
      ]
     },
     "execution_count": 2,
     "metadata": {},
     "output_type": "execute_result"
    }
   ],
   "source": [
    "data = pd.read_csv('../data/wdbc.data', header=None)\n",
    "\n",
    "cols = ['ID', 'Diagnosis']\n",
    "for i in range(1, 31):\n",
    "    cols.append(f'A_{i}')\n",
    "\n",
    "data.columns = cols\n",
    "data.drop(columns=['ID'], inplace=True)\n",
    "data[\"Diagnosis\"] = data[\"Diagnosis\"].map( {'M':-1, 'B':1} )\n",
    "data.head()"
   ]
  },
  {
   "cell_type": "code",
   "execution_count": 3,
   "metadata": {},
   "outputs": [],
   "source": [
    "pos = data[data['Diagnosis'] == 1]\n",
    "neg = data[data['Diagnosis'] == -1]\n",
    "\n",
    "X_pos = pos.drop(columns=['Diagnosis'])\n",
    "X_neg = neg.drop(columns=['Diagnosis'])\n",
    "y_pos = pos[['Diagnosis']]\n",
    "y_neg = neg[['Diagnosis']]"
   ]
  },
  {
   "cell_type": "markdown",
   "metadata": {},
   "source": [
    "### (b) Monte-Carlo Simulation"
   ]
  },
  {
   "cell_type": "markdown",
   "metadata": {},
   "source": [
    "#### (i) Supervised Learning"
   ]
  },
  {
   "cell_type": "code",
   "execution_count": 45,
   "metadata": {},
   "outputs": [
    {
     "name": "stderr",
     "output_type": "stream",
     "text": [
      "100%|██████████| 30/30 [00:11<00:00,  2.51it/s]"
     ]
    },
    {
     "name": "stdout",
     "output_type": "stream",
     "text": [
      "\n",
      "Average Accuracy: 0.970725\n",
      "Average Precision: 0.973293\n",
      "Average Recall: 0.980556\n",
      "Average F1-Score: 0.976721\n",
      "Average AUC: 0.991688\n"
     ]
    },
    {
     "name": "stderr",
     "output_type": "stream",
     "text": [
      "\n"
     ]
    },
    {
     "data": {
      "image/png": "[encoded data removed]",
      "text/plain": [
       "<Figure size 432x288 with 1 Axes>"
      ]
     },
     "metadata": {
      "needs_background": "light"
     },
     "output_type": "display_data"
    },
    {
     "name": "stdout",
     "output_type": "stream",
     "text": [
      "Confusion Matrix:\n",
      " [[42  1]\n",
      " [ 3 69]]\n"
     ]
    }
   ],
   "source": [
    "M = 30\n",
    "\n",
    "accuracy_list = []\n",
    "precision_list = []\n",
    "recall_list = []\n",
    "f1_list = []\n",
    "auc_list = []\n",
    "\n",
    "for _ in tqdm(range(M)):\n",
    "\n",
    "    X_pos_train, X_pos_test, y_pos_train, y_pos_test = train_test_split(X_pos, y_pos, test_size=0.2)\n",
    "    X_neg_train, X_neg_test, y_neg_train, y_neg_test = train_test_split(X_neg, y_neg, test_size=0.2)\n",
    "\n",
    "    X_train = pd.concat([X_pos_train, X_neg_train], ignore_index=True) \n",
    "    X_test = pd.concat([X_pos_test, X_neg_test], ignore_index=True) \n",
    "    y_train = pd.concat([y_pos_train, y_neg_train], ignore_index=True) \n",
    "    y_test = pd.concat([y_pos_test, y_neg_test], ignore_index=True) \n",
    "\n",
    "    scaler = StandardScaler()\n",
    "    X_train = scaler.fit_transform(X_train)\n",
    "    X_test = scaler.transform(X_test)\n",
    "\n",
    "    parameters = [{'C': [0.1, 1, 10, 100, 1000]}]   \n",
    "    clf = GridSearchCV(LinearSVC(penalty='l1', dual=False), parameters, cv=5)\n",
    "    clf.fit(X_train, y_train)\n",
    "\n",
    "    best_c = clf.best_params_['C']\n",
    "\n",
    "    final_model = LinearSVC(penalty='l1', C=best_c, dual=False)\n",
    "    final_model.fit(X_train, y_train)\n",
    "\n",
    "    y_train_pred = final_model.predict(X_train)\n",
    "    y_test_pred = final_model.predict(X_test)\n",
    "\n",
    "    accuracy_train = metrics.accuracy_score(y_train, y_train_pred)\n",
    "    precision_train = metrics.precision_score(y_train, y_train_pred)\n",
    "    recall_train = metrics.recall_score(y_train, y_train_pred)\n",
    "    f1_train = metrics.f1_score(y_train, y_train_pred)\n",
    "    auc_train = metrics.roc_auc_score(y_train, final_model.decision_function(X_train))\n",
    "\n",
    "    accuracy_test = metrics.accuracy_score(y_test, y_test_pred)\n",
    "    precision_test = metrics.precision_score(y_test, y_test_pred)\n",
    "    recall_test = metrics.recall_score(y_test, y_test_pred)\n",
    "    f1_test = metrics.f1_score(y_test, y_test_pred)\n",
    "    auc_test = metrics.roc_auc_score(y_test, final_model.decision_function(X_test))\n",
    "\n",
    "    accuracy_list.append(accuracy_test)\n",
    "    precision_list.append(precision_test)\n",
    "    recall_list.append(recall_test)\n",
    "    f1_list.append(f1_test)\n",
    "    auc_list.append(auc_test)\n",
    "\n",
    "average_accuracy = np.mean(accuracy_list)\n",
    "average_precision = np.mean(precision_list)\n",
    "average_recall = np.mean(recall_list)\n",
    "average_f1 = np.mean(f1_list)\n",
    "average_auc = np.mean(auc_list)\n",
    "\n",
    "print(f'\\nAverage Accuracy: {average_accuracy:.6f}')\n",
    "print(f'Average Precision: {average_precision:.6f}')\n",
    "print(f'Average Recall: {average_recall:.6f}')\n",
    "print(f'Average F1-Score: {average_f1:.6f}')\n",
    "print(f'Average AUC: {average_auc:.6f}')\n",
    "\n",
    "fpr, tpr, thresholds = roc_curve(y_test, final_model.decision_function(X_test))\n",
    "roc_auc = auc(fpr, tpr)\n",
    "\n",
    "plt.figure()\n",
    "plt.plot(fpr, tpr, color='darkorange', lw=2, label='ROC curve (area = {:.2f})'.format(roc_auc))\n",
    "plt.plot([0, 1], [0, 1], color='navy', lw=2, linestyle='--')\n",
    "plt.xlabel('False Positive Rate')\n",
    "plt.ylabel('True Positive Rate')\n",
    "plt.title('Receiver Operating Characteristic')\n",
    "plt.legend(loc='lower right')\n",
    "plt.show()\n",
    "\n",
    "conf_matrix = confusion_matrix(y_test, y_test_pred)\n",
    "print(\"Confusion Matrix:\\n\", conf_matrix)"
   ]
  },
  {
   "cell_type": "markdown",
   "metadata": {},
   "source": [
    "#### (ii) Semi-Supervised Learning/ Self-training"
   ]
  },
  {
   "cell_type": "markdown",
   "metadata": {},
   "source": [
    "##### (A), (B)"
   ]
  },
  {
   "cell_type": "code",
   "execution_count": 52,
   "metadata": {},
   "outputs": [
    {
     "name": "stderr",
     "output_type": "stream",
     "text": [
      "  0%|          | 0/30 [00:00<?, ?it/s]"
     ]
    },
    {
     "name": "stderr",
     "output_type": "stream",
     "text": [
      "100%|██████████| 30/30 [00:11<00:00,  2.51it/s]"
     ]
    },
    {
     "name": "stdout",
     "output_type": "stream",
     "text": [
      "\n",
      "Average Accuracy: 0.970145\n",
      "Average Precision: 0.965798\n",
      "Average Recall: 0.987963\n",
      "Average F1-Score: 0.976541\n",
      "Average AUC: 0.991850\n"
     ]
    },
    {
     "name": "stderr",
     "output_type": "stream",
     "text": [
      "\n"
     ]
    },
    {
     "data": {
      "image/png": "[encoded data removed]",
      "text/plain": [
       "<Figure size 432x288 with 1 Axes>"
      ]
     },
     "metadata": {
      "needs_background": "light"
     },
     "output_type": "display_data"
    },
    {
     "name": "stdout",
     "output_type": "stream",
     "text": [
      "Confusion Matrix:\n",
      " [[40  3]\n",
      " [ 0 72]]\n"
     ]
    }
   ],
   "source": [
    "M = 30\n",
    "\n",
    "accuracy_list = []\n",
    "precision_list = []\n",
    "recall_list = []\n",
    "f1_list = []\n",
    "auc_list = []\n",
    "\n",
    "for _ in tqdm(range(M)):\n",
    "    \n",
    "    X_pos_train, X_pos_test, y_pos_train, y_pos_test = train_test_split(X_pos, y_pos, test_size=0.2)\n",
    "    X_neg_train, X_neg_test, y_neg_train, y_neg_test = train_test_split(X_neg, y_neg, test_size=0.2)\n",
    "\n",
    "    X_train = pd.concat([X_pos_train, X_neg_train], ignore_index=True) \n",
    "    X_test = pd.concat([X_pos_test, X_neg_test], ignore_index=True) \n",
    "    y_train = pd.concat([y_pos_train, y_neg_train], ignore_index=True) \n",
    "    y_test = pd.concat([y_pos_test, y_neg_test], ignore_index=True) \n",
    "\n",
    "    scaler = StandardScaler()\n",
    "    X_train = scaler.fit_transform(X_train)\n",
    "    X_test = scaler.transform(X_test)\n",
    "\n",
    "    parameters = [{'C': [0.1, 1, 10, 100, 1000]}]\n",
    "    svm_model = GridSearchCV(LinearSVC(penalty='l1', dual=False), parameters, cv=5)\n",
    "    svm_model.fit(X_train, y_train)\n",
    "\n",
    "    best_c = svm_model.best_params_['C']\n",
    "\n",
    "    unlabeled_indices = np.where(y_train.isna())[0] \n",
    "    while len(unlabeled_indices) > 0:   \n",
    "        decision_values = svm_model.decision_function(X_train[unlabeled_indices])\n",
    "        furthest_index = unlabeled_indices[np.argmax(np.abs(decision_values))]\n",
    "\n",
    "        y_train.iloc[furthest_index] = np.sign(decision_values[np.argmax(np.abs(decision_values))])\n",
    "\n",
    "        svm_model = LinearSVC(penalty='l1', dual=False, C=best_c)\n",
    "        svm_model.fit(X_train, y_train)\n",
    "\n",
    "        unlabeled_indices = np.arange(len(X_train))[y_train.isna()]\n",
    "\n",
    "    y_train_pred = svm_model.predict(X_train)\n",
    "    y_test_pred = svm_model.predict(X_test)\n",
    "\n",
    "    accuracy_train = metrics.accuracy_score(y_train, y_train_pred)\n",
    "    precision_train = metrics.precision_score(y_train, y_train_pred)\n",
    "    recall_train = metrics.recall_score(y_train, y_train_pred)\n",
    "    f1_train = metrics.f1_score(y_train, y_train_pred)\n",
    "    auc_train = metrics.roc_auc_score(y_train, svm_model.decision_function(X_train))\n",
    "\n",
    "    accuracy_test = metrics.accuracy_score(y_test, y_test_pred)\n",
    "    precision_test = metrics.precision_score(y_test, y_test_pred)\n",
    "    recall_test = metrics.recall_score(y_test, y_test_pred)\n",
    "    f1_test = metrics.f1_score(y_test, y_test_pred)\n",
    "    auc_test = metrics.roc_auc_score(y_test, svm_model.decision_function(X_test))\n",
    "\n",
    "    accuracy_list.append(accuracy_test)\n",
    "    precision_list.append(precision_test)\n",
    "    recall_list.append(recall_test)\n",
    "    f1_list.append(f1_test)\n",
    "    auc_list.append(auc_test)\n",
    "\n",
    "average_accuracy = np.mean(accuracy_list)\n",
    "average_precision = np.mean(precision_list)\n",
    "average_recall = np.mean(recall_list)\n",
    "average_f1 = np.mean(f1_list)\n",
    "average_auc = np.mean(auc_list)\n",
    "\n",
    "print(f'\\nAverage Accuracy: {average_accuracy:.6f}')\n",
    "print(f'Average Precision: {average_precision:.6f}')\n",
    "print(f'Average Recall: {average_recall:.6f}')\n",
    "print(f'Average F1-Score: {average_f1:.6f}')\n",
    "print(f'Average AUC: {average_auc:.6f}')\n",
    "\n",
    "fpr, tpr, thresholds = roc_curve(y_test, svm_model.decision_function(X_test))\n",
    "roc_auc = auc(fpr, tpr)\n",
    "\n",
    "plt.figure()\n",
    "plt.plot(fpr, tpr, color='darkorange', lw=2, label='ROC curve (area = {:.2f})'.format(roc_auc))\n",
    "plt.plot([0, 1], [0, 1], color='navy', lw=2, linestyle='--')\n",
    "plt.xlabel('False Positive Rate')\n",
    "plt.ylabel('True Positive Rate')\n",
    "plt.title('Receiver Operating Characteristic')\n",
    "plt.legend(loc='lower right')\n",
    "plt.show()\n",
    "\n",
    "conf_matrix = confusion_matrix(y_test, y_test_pred)\n",
    "print(\"Confusion Matrix:\\n\", conf_matrix)"
   ]
  },
  {
   "cell_type": "markdown",
   "metadata": {},
   "source": [
    "#### (iii) Unsupervised Learning"
   ]
  },
  {
   "cell_type": "markdown",
   "metadata": {},
   "source": [
    "##### (A)"
   ]
  },
  {
   "cell_type": "code",
   "execution_count": 41,
   "metadata": {},
   "outputs": [
    {
     "name": "stderr",
     "output_type": "stream",
     "text": [
      "  0%|          | 0/30 [00:00<?, ?it/s]"
     ]
    },
    {
     "name": "stderr",
     "output_type": "stream",
     "text": [
      "100%|██████████| 30/30 [00:04<00:00,  6.96it/s]\n"
     ]
    }
   ],
   "source": [
    "data = pd.read_csv('../data/wdbc.data', header=None)\n",
    "\n",
    "cols = ['ID', 'Diagnosis']\n",
    "for i in range(1, 31):\n",
    "    cols.append(f'A_{i}')\n",
    "\n",
    "data.columns = cols\n",
    "data.drop(columns=['ID'], inplace=True)\n",
    "data[\"Diagnosis\"] = data[\"Diagnosis\"].map( {'M':0, 'B':1} )\n",
    "data.head()\n",
    "\n",
    "pos = data[data['Diagnosis'] == 1]\n",
    "neg = data[data['Diagnosis'] == 0]\n",
    "\n",
    "X_pos = pos.drop(columns=['Diagnosis'])\n",
    "X_neg = neg.drop(columns=['Diagnosis'])\n",
    "y_pos = pos[['Diagnosis']]\n",
    "y_neg = neg[['Diagnosis']]\n",
    "\n",
    "M = 30\n",
    "silhouette_scores = []\n",
    "\n",
    "for _ in tqdm(range(M)):\n",
    "\n",
    "    X_pos_train, X_pos_test, _, _ = train_test_split(X_pos, y_pos, test_size=0.2)\n",
    "    X_neg_train, X_neg_test, _, _ = train_test_split(X_neg, y_neg, test_size=0.2)\n",
    "\n",
    "    X_train = pd.concat([X_pos_train, X_neg_train], ignore_index=True) \n",
    "    X_test = pd.concat([X_pos_test, X_neg_test], ignore_index=True) \n",
    "\n",
    "    best_kmeans_model = None\n",
    "    best_score = float('-inf')\n",
    "\n",
    "    for _ in range(10):\n",
    "        kmeans_model = KMeans(n_clusters=2, init='k-means++', n_init=10, random_state=rand.randint(0, 100))\n",
    "        kmeans_model.fit(X_train)\n",
    "\n",
    "        silhouette_score = metrics.silhouette_score(X_train, kmeans_model.labels_)\n",
    "        silhouette_scores.append(silhouette_score)\n",
    "\n",
    "        if silhouette_score > best_score:\n",
    "            best_score = silhouette_score\n",
    "            best_kmeans_model = kmeans_model"
   ]
  },
  {
   "cell_type": "markdown",
   "metadata": {},
   "source": [
    "By assigning `init='k-means++'`, it can spread out the initial cluster centers, reducing the likelihood of convergence to suboptimal solutions.\n",
    "<br><br>Also, `n_init` is the number of times the k-means algorithm will be run with different centroid seeds. Increasing n_init increases the chances of finding a better solution, but it also increases computation time."
   ]
  },
  {
   "cell_type": "markdown",
   "metadata": {},
   "source": [
    "##### (B)"
   ]
  },
  {
   "cell_type": "code",
   "execution_count": 44,
   "metadata": {},
   "outputs": [
    {
     "name": "stderr",
     "output_type": "stream",
     "text": [
      "  0%|          | 0/30 [00:00<?, ?it/s]"
     ]
    },
    {
     "name": "stderr",
     "output_type": "stream",
     "text": [
      "100%|██████████| 30/30 [00:03<00:00,  8.71it/s]\n"
     ]
    },
    {
     "name": "stdout",
     "output_type": "stream",
     "text": [
      "\n",
      "Average Accuracy: 0.851542\n",
      "Average Precision: 0.810209\n",
      "Average Recall: 0.997310\n",
      "Average F1-Score: 0.894043\n",
      "Average AUC: 0.801515\n"
     ]
    },
    {
     "data": {
      "image/png": "[encoded data removed]",
      "text/plain": [
       "<Figure size 432x288 with 1 Axes>"
      ]
     },
     "metadata": {
      "needs_background": "light"
     },
     "output_type": "display_data"
    },
    {
     "name": "stdout",
     "output_type": "stream",
     "text": [
      "Confusion Matrix:\n",
      " [[106  63]\n",
      " [  0 285]]\n"
     ]
    }
   ],
   "source": [
    "M = 30\n",
    "\n",
    "accuracy_list = []\n",
    "precision_list = []\n",
    "recall_list = []\n",
    "f1_list = []\n",
    "auc_list = []\n",
    "\n",
    "for _ in tqdm(range(M)):\n",
    "\n",
    "    X_pos_train, X_pos_test, y_pos_train, y_pos_test = train_test_split(X_pos, y_pos, test_size=0.2)\n",
    "    X_neg_train, X_neg_test, y_neg_train, y_neg_test = train_test_split(X_neg, y_neg, test_size=0.2)\n",
    "\n",
    "    X_train = pd.concat([X_pos_train, X_neg_train], ignore_index=True) \n",
    "    X_test = pd.concat([X_pos_test, X_neg_test], ignore_index=True) \n",
    "    y_train = pd.concat([y_pos_train, y_neg_train], ignore_index=True) \n",
    "    y_test = pd.concat([y_pos_test, y_neg_test], ignore_index=True) \n",
    "\n",
    "    best_kmeans_model = None\n",
    "    best_score = float('-inf')\n",
    "\n",
    "    for _ in range(10): \n",
    "        kmeans_model = KMeans(n_clusters=2, init='k-means++', n_init=5, random_state=rand.randint(0, 100))\n",
    "        kmeans_model.fit(X_train)\n",
    "\n",
    "        silhouette_score = metrics.silhouette_score(X_train, kmeans_model.labels_)\n",
    "\n",
    "        if silhouette_score > best_score:\n",
    "            best_score = silhouette_score\n",
    "            best_kmeans_model = kmeans_model\n",
    "\n",
    "    cluster_centers = best_kmeans_model.cluster_centers_\n",
    "\n",
    "    nn = NearestNeighbors(n_neighbors=30)\n",
    "    nn.fit(X_train)\n",
    "    _, indices_cluster_1 = nn.kneighbors([cluster_centers[0]])\n",
    "    _, indices_cluster_2 = nn.kneighbors([cluster_centers[1]])\n",
    "\n",
    "    labels_cluster_1 = y_train.iloc[indices_cluster_1[0]].values\n",
    "    labels_cluster_2 = y_train.iloc[indices_cluster_2[0]].values\n",
    "\n",
    "    majority_poll_cluster_1 = np.sign(np.sum(labels_cluster_1))\n",
    "    majority_poll_cluster_2 = np.sign(np.sum(labels_cluster_2))\n",
    "\n",
    "    cluster_1_label = 1 if majority_poll_cluster_1 > 0 else 0\n",
    "    cluster_2_label = 1 if majority_poll_cluster_2 > 0 else 0\n",
    "\n",
    "    y_train_pred = np.where(best_kmeans_model.labels_ == 0, cluster_1_label, cluster_2_label)\n",
    "\n",
    "    accuracy_train = metrics.accuracy_score(y_train, y_train_pred)\n",
    "    precision_train = metrics.precision_score(y_train, y_train_pred)\n",
    "    recall_train = metrics.recall_score(y_train, y_train_pred)\n",
    "    f1_train = metrics.f1_score(y_train, y_train_pred)\n",
    "    auc_train = metrics.roc_auc_score(y_train, y_train_pred)\n",
    "\n",
    "    accuracy_list.append(accuracy_train)\n",
    "    precision_list.append(precision_train)\n",
    "    recall_list.append(recall_train)\n",
    "    f1_list.append(f1_train)\n",
    "    auc_list.append(auc_train)\n",
    "\n",
    "average_accuracy = np.mean(accuracy_list)\n",
    "average_precision = np.mean(precision_list)\n",
    "average_recall = np.mean(recall_list)\n",
    "average_f1 = np.mean(f1_list)\n",
    "average_auc = np.mean(auc_list)\n",
    "\n",
    "print(f'\\nAverage Accuracy: {average_accuracy:.6f}')\n",
    "print(f'Average Precision: {average_precision:.6f}')\n",
    "print(f'Average Recall: {average_recall:.6f}')\n",
    "print(f'Average F1-Score: {average_f1:.6f}')\n",
    "print(f'Average AUC: {average_auc:.6f}')\n",
    "\n",
    "fpr, tpr, thresholds = roc_curve(y_train, best_kmeans_model.labels_)\n",
    "roc_auc = metrics.auc(fpr, tpr)\n",
    "\n",
    "plt.figure()\n",
    "plt.plot(fpr, tpr, color='darkorange', lw=2, label='ROC curve (area = {:.2f})'.format(roc_auc))\n",
    "plt.plot([0, 1], [0, 1], color='navy', lw=2, linestyle='--')\n",
    "plt.xlabel('False Positive Rate')\n",
    "plt.ylabel('True Positive Rate')\n",
    "plt.title('Receiver Operating Characteristic')\n",
    "plt.legend(loc='lower right')\n",
    "plt.show()\n",
    "\n",
    "conf_matrix = confusion_matrix(y_train, y_train_pred)\n",
    "print(\"Confusion Matrix:\\n\", conf_matrix)"
   ]
  },
  {
   "cell_type": "markdown",
   "metadata": {},
   "source": [
    "##### (C)"
   ]
  },
  {
   "cell_type": "code",
   "execution_count": 45,
   "metadata": {},
   "outputs": [
    {
     "name": "stderr",
     "output_type": "stream",
     "text": [
      "100%|██████████| 30/30 [00:01<00:00, 17.00it/s]\n"
     ]
    },
    {
     "name": "stdout",
     "output_type": "stream",
     "text": [
      "\n",
      "Average Accuracy: 0.481449\n",
      "Average Precision: 0.376942\n",
      "Average Recall: 0.465278\n",
      "Average F1-Score: 0.416410\n",
      "Average AUC: 0.436881\n"
     ]
    },
    {
     "data": {
      "image/png": "[encoded data removed]",
      "text/plain": [
       "<Figure size 432x288 with 1 Axes>"
      ]
     },
     "metadata": {
      "needs_background": "light"
     },
     "output_type": "display_data"
    },
    {
     "name": "stdout",
     "output_type": "stream",
     "text": [
      "Confusion Matrix:\n",
      " [[24 19]\n",
      " [ 0 72]]\n"
     ]
    }
   ],
   "source": [
    "M = 30\n",
    "\n",
    "accuracy_list = []\n",
    "precision_list = []\n",
    "recall_list = []\n",
    "f1_list = []\n",
    "auc_list = []\n",
    "\n",
    "for _ in tqdm(range(M)):\n",
    "\n",
    "    X_pos_train, X_pos_test, y_pos_train, y_pos_test = train_test_split(X_pos, y_pos, test_size=0.2)\n",
    "    X_neg_train, X_neg_test, y_neg_train, y_neg_test = train_test_split(X_neg, y_neg, test_size=0.2)\n",
    "\n",
    "    X_train = pd.concat([X_pos_train, X_neg_train], ignore_index=True) \n",
    "    X_test = pd.concat([X_pos_test, X_neg_test], ignore_index=True) \n",
    "    y_train = pd.concat([y_pos_train, y_neg_train], ignore_index=True) \n",
    "    y_test = pd.concat([y_pos_test, y_neg_test], ignore_index=True) \n",
    "\n",
    "    best_kmeans_model = None\n",
    "    best_score = float('-inf')\n",
    "\n",
    "    for _ in range(10): \n",
    "        kmeans_model = KMeans(n_clusters=2, init='k-means++', n_init=5, random_state=rand.randint(0, 100))\n",
    "        kmeans_model.fit(X_train)\n",
    "\n",
    "        silhouette_score = metrics.silhouette_score(X_train, kmeans_model.labels_)\n",
    "\n",
    "        if silhouette_score > best_score:\n",
    "            best_score = silhouette_score\n",
    "            best_kmeans_model = kmeans_model\n",
    "\n",
    "    cluster_centers = best_kmeans_model.cluster_centers_\n",
    "    distances = np.vstack([np.linalg.norm(X_test - center, axis=1) for center in cluster_centers]).T\n",
    "\n",
    "    softmax_scores = softmax(-distances, axis=1)\n",
    "    y_test_pred = np.argmax(softmax_scores, axis=1)\n",
    "    label_encoder = LabelEncoder()\n",
    "    y_test_encoded = label_encoder.fit_transform(y_test)\n",
    "\n",
    "    accuracy_test = metrics.accuracy_score(y_test_encoded, y_test_pred)\n",
    "    precision_test = metrics.precision_score(y_test_encoded, y_test_pred)\n",
    "    recall_test = metrics.recall_score(y_test_encoded, y_test_pred)\n",
    "    f1_test = metrics.f1_score(y_test_encoded, y_test_pred)\n",
    "    auc_test = metrics.roc_auc_score(y_test_encoded, softmax_scores[:, 1])\n",
    "\n",
    "    accuracy_list.append(accuracy_test)\n",
    "    precision_list.append(precision_test)\n",
    "    recall_list.append(recall_test)\n",
    "    f1_list.append(f1_test)\n",
    "    auc_list.append(auc_test)\n",
    "\n",
    "average_accuracy = np.mean(accuracy_list)\n",
    "average_precision = np.mean(precision_list)\n",
    "average_recall = np.mean(recall_list)\n",
    "average_f1 = np.mean(f1_list)\n",
    "average_auc = np.mean(auc_list)\n",
    "\n",
    "print(f'\\nAverage Accuracy: {average_accuracy:.6f}')\n",
    "print(f'Average Precision: {average_precision:.6f}')\n",
    "print(f'Average Recall: {average_recall:.6f}')\n",
    "print(f'Average F1-Score: {average_f1:.6f}')\n",
    "print(f'Average AUC: {average_auc:.6f}')\n",
    "\n",
    "fpr, tpr, thresholds = roc_curve(y_test_encoded, softmax_scores[:, 1])\n",
    "roc_auc = metrics.auc(fpr, tpr)\n",
    "\n",
    "plt.figure()\n",
    "plt.plot(fpr, tpr, color='darkorange', lw=2, label='ROC curve (area = {:.2f})'.format(roc_auc))\n",
    "plt.plot([0, 1], [0, 1], color='navy', lw=2, linestyle='--')\n",
    "plt.xlabel('False Positive Rate')\n",
    "plt.ylabel('True Positive Rate')\n",
    "plt.title('Receiver Operating Characteristic')\n",
    "plt.legend(loc='lower right')\n",
    "plt.show()\n",
    "\n",
    "conf_matrix = confusion_matrix(y_test_encoded, y_test_pred)\n",
    "print(\"Confusion Matrix:\\n\", conf_matrix)"
   ]
  },
  {
   "cell_type": "markdown",
   "metadata": {},
   "source": [
    "#### (iv) Spectral Clustering"
   ]
  },
  {
   "cell_type": "markdown",
   "metadata": {},
   "source": [
    "Spectral Clustering: a technique used in machine learning and data analysis for clustering data points. Unlike traditional clustering algorithms, such as k-means, spectral clustering is not based on optimization of a distance metric but instead relies on the spectral properties (eigenvectors and eigenvalues) of a similarity graph built from the data."
   ]
  },
  {
   "cell_type": "code",
   "execution_count": 48,
   "metadata": {},
   "outputs": [
    {
     "name": "stderr",
     "output_type": "stream",
     "text": [
      "100%|██████████| 30/30 [07:50<00:00, 15.67s/it]"
     ]
    },
    {
     "name": "stdout",
     "output_type": "stream",
     "text": [
      "\n",
      "Test Set Metrics:\n",
      "Avg Precision: 0.25070517633797473\n",
      "Avg Recall: 0.5001583657878551\n",
      "Avg Accuracy: 0.37279040599069513\n",
      "Avg F1-Score: 0.27268677023940485\n",
      "Avg AUC: 0.5138888888888888\n"
     ]
    },
    {
     "name": "stderr",
     "output_type": "stream",
     "text": [
      "\n"
     ]
    },
    {
     "data": {
      "image/png": "[encoded data removed]",
      "text/plain": [
       "<Figure size 432x288 with 1 Axes>"
      ]
     },
     "metadata": {
      "needs_background": "light"
     },
     "output_type": "display_data"
    },
    {
     "name": "stdout",
     "output_type": "stream",
     "text": [
      "\n",
      "Confusion Matrix (Test Set):\n",
      " [[43  0]\n",
      " [70  2]]\n"
     ]
    }
   ],
   "source": [
    "M = 30\n",
    "\n",
    "accuracy_list = []\n",
    "precision_list = []\n",
    "recall_list = []\n",
    "f1_list = []\n",
    "auc_list = []\n",
    "\n",
    "roc_auc = []\n",
    "\n",
    "for m in tqdm(range(M)):\n",
    "\n",
    "    X_pos_train, X_pos_test, y_pos_train, y_pos_test = train_test_split(X_pos, y_pos, test_size=0.2)\n",
    "    X_neg_train, X_neg_test, y_neg_train, y_neg_test = train_test_split(X_neg, y_neg, test_size=0.2)\n",
    "\n",
    "    X_train = pd.concat([X_pos_train, X_neg_train], ignore_index=True)\n",
    "    X_test = pd.concat([X_pos_test, X_neg_test], ignore_index=True)\n",
    "    y_train = pd.concat([y_pos_train, y_neg_train], ignore_index=True)\n",
    "    y_test = pd.concat([y_pos_test, y_neg_test], ignore_index=True)\n",
    "\n",
    "    sc = SpectralClustering(n_clusters=2, affinity='rbf', gamma=1, n_init=100, random_state=rand.randint(0, 100))\n",
    "    y_train_pred = sc.fit_predict(X_train)\n",
    "\n",
    "    precision_list.append(precision_score(y_train, y_train_pred, average='macro'))\n",
    "    recall_list.append(recall_score(y_train, y_train_pred, average='macro'))\n",
    "    accuracy_list.append(accuracy_score(y_train, y_train_pred))\n",
    "    f1_list.append(f1_score(y_train, y_train_pred, average='macro'))\n",
    "    fpr, tpr, _ = roc_curve(y_train, y_train_pred)\n",
    "    auc_list.append(auc(fpr, tpr))\n",
    "\n",
    "y_test_pred = sc.fit_predict(X_test)\n",
    "precision_list.append(precision_score(y_test, y_test_pred, average='macro'))\n",
    "recall_list.append(recall_score(y_test, y_test_pred, average='macro'))\n",
    "accuracy_list.append(accuracy_score(y_test, y_test_pred))\n",
    "f1_list.append(f1_score(y_test, y_test_pred, average='macro'))\n",
    "fpr, tpr, _ = roc_curve(y_test, y_test_pred)\n",
    "roc_auc.append(auc(fpr, tpr))\n",
    "\n",
    "print(\"\\nTest Set Metrics:\")\n",
    "print(\"Avg Precision:\", statistics.mean(precision_list))\n",
    "print(\"Avg Recall:\", statistics.mean(recall_list))\n",
    "print(\"Avg Accuracy:\", statistics.mean(accuracy_list))\n",
    "print(\"Avg F1-Score:\", statistics.mean(f1_list))\n",
    "print(\"Avg AUC:\", statistics.mean(roc_auc))\n",
    "\n",
    "plt.figure()\n",
    "plt.plot(fpr, tpr, color='darkorange', lw=2, label='ROC curve (area = {:.2f})'.format(statistics.mean(roc_auc)))\n",
    "plt.plot([0, 1], [0, 1], color='navy', lw=2, linestyle='--')\n",
    "plt.xlabel('False Positive Rate')\n",
    "plt.ylabel('True Positive Rate')\n",
    "plt.title('Receiver Operating Characteristic (Test Set)')\n",
    "plt.legend(loc='lower right')\n",
    "plt.show()\n",
    "\n",
    "conf_matrix = confusion_matrix(y_test, y_test_pred)\n",
    "print(\"\\nConfusion Matrix (Test Set):\\n\", conf_matrix)"
   ]
  },
  {
   "cell_type": "markdown",
   "metadata": {},
   "source": [
    "#### (iv) Compare\n",
    "\n",
    "The findings indicate that employing supervised learning on the entire dataset yields superior outcomes compared to semi-supervised learning with only half of the dataset labeled. Moreover, it outperforms unsupervised learning, particularly if the labeling results differ from the clustering outcomes. Notably, while there isn't a substantial performance gap between supervised and semi-supervised learning, both methods exhibit longer execution times in comparison to the more expedient k-means algorithm."
   ]
  },
  {
   "cell_type": "markdown",
   "metadata": {},
   "source": [
    "## 2. Active Learning Using Support Vector Machines"
   ]
  },
  {
   "cell_type": "markdown",
   "metadata": {},
   "source": [
    "### (a) Download the banknote authentication Data Set"
   ]
  },
  {
   "cell_type": "code",
   "execution_count": 50,
   "metadata": {},
   "outputs": [
    {
     "data": {
      "text/html": [
       "<div>\n",
       "<style scoped>\n",
       "    .dataframe tbody tr th:only-of-type {\n",
       "        vertical-align: middle;\n",
       "    }\n",
       "\n",
       "    .dataframe tbody tr th {\n",
       "        vertical-align: top;\n",
       "    }\n",
       "\n",
       "    .dataframe thead th {\n",
       "        text-align: right;\n",
       "    }\n",
       "</style>\n",
       "<table border=\"1\" class=\"dataframe\">\n",
       "  <thead>\n",
       "    <tr style=\"text-align: right;\">\n",
       "      <th></th>\n",
       "      <th>var</th>\n",
       "      <th>skew</th>\n",
       "      <th>cur</th>\n",
       "      <th>entropy</th>\n",
       "      <th>class</th>\n",
       "    </tr>\n",
       "  </thead>\n",
       "  <tbody>\n",
       "    <tr>\n",
       "      <th>0</th>\n",
       "      <td>3.62160</td>\n",
       "      <td>8.6661</td>\n",
       "      <td>-2.8073</td>\n",
       "      <td>-0.44699</td>\n",
       "      <td>0</td>\n",
       "    </tr>\n",
       "    <tr>\n",
       "      <th>1</th>\n",
       "      <td>4.54590</td>\n",
       "      <td>8.1674</td>\n",
       "      <td>-2.4586</td>\n",
       "      <td>-1.46210</td>\n",
       "      <td>0</td>\n",
       "    </tr>\n",
       "    <tr>\n",
       "      <th>2</th>\n",
       "      <td>3.86600</td>\n",
       "      <td>-2.6383</td>\n",
       "      <td>1.9242</td>\n",
       "      <td>0.10645</td>\n",
       "      <td>0</td>\n",
       "    </tr>\n",
       "    <tr>\n",
       "      <th>3</th>\n",
       "      <td>3.45660</td>\n",
       "      <td>9.5228</td>\n",
       "      <td>-4.0112</td>\n",
       "      <td>-3.59440</td>\n",
       "      <td>0</td>\n",
       "    </tr>\n",
       "    <tr>\n",
       "      <th>4</th>\n",
       "      <td>0.32924</td>\n",
       "      <td>-4.4552</td>\n",
       "      <td>4.5718</td>\n",
       "      <td>-0.98880</td>\n",
       "      <td>0</td>\n",
       "    </tr>\n",
       "  </tbody>\n",
       "</table>\n",
       "</div>"
      ],
      "text/plain": [
       "       var    skew     cur  entropy  class\n",
       "0  3.62160  8.6661 -2.8073 -0.44699      0\n",
       "1  4.54590  8.1674 -2.4586 -1.46210      0\n",
       "2  3.86600 -2.6383  1.9242  0.10645      0\n",
       "3  3.45660  9.5228 -4.0112 -3.59440      0\n",
       "4  0.32924 -4.4552  4.5718 -0.98880      0"
      ]
     },
     "metadata": {},
     "output_type": "display_data"
    }
   ],
   "source": [
    "bank = pd.read_csv('../data/data_banknote_authentication.txt', names=['var', 'skew', 'cur', 'entropy', 'class'])\n",
    "display(bank.head())"
   ]
  },
  {
   "cell_type": "markdown",
   "metadata": {},
   "source": [
    "### (b) Repeat each of the following two procedures 50 times"
   ]
  },
  {
   "cell_type": "markdown",
   "metadata": {},
   "source": [
    "#### (i) Passive"
   ]
  },
  {
   "cell_type": "code",
   "execution_count": 65,
   "metadata": {},
   "outputs": [
    {
     "name": "stderr",
     "output_type": "stream",
     "text": [
      "100%|██████████| 50/50 [10:33<00:00, 12.66s/it]\n"
     ]
    },
    {
     "data": {
      "text/html": [
       "<div>\n",
       "<style scoped>\n",
       "    .dataframe tbody tr th:only-of-type {\n",
       "        vertical-align: middle;\n",
       "    }\n",
       "\n",
       "    .dataframe tbody tr th {\n",
       "        vertical-align: top;\n",
       "    }\n",
       "\n",
       "    .dataframe thead th {\n",
       "        text-align: right;\n",
       "    }\n",
       "</style>\n",
       "<table border=\"1\" class=\"dataframe\">\n",
       "  <thead>\n",
       "    <tr style=\"text-align: right;\">\n",
       "      <th></th>\n",
       "      <th>SVM Number</th>\n",
       "      <th>Number of Samples</th>\n",
       "      <th>AVG Test Error</th>\n",
       "    </tr>\n",
       "  </thead>\n",
       "  <tbody>\n",
       "    <tr>\n",
       "      <th>0</th>\n",
       "      <td>1</td>\n",
       "      <td>10</td>\n",
       "      <td>0.156949</td>\n",
       "    </tr>\n",
       "    <tr>\n",
       "      <th>1</th>\n",
       "      <td>2</td>\n",
       "      <td>20</td>\n",
       "      <td>0.074788</td>\n",
       "    </tr>\n",
       "    <tr>\n",
       "      <th>2</th>\n",
       "      <td>3</td>\n",
       "      <td>30</td>\n",
       "      <td>0.055339</td>\n",
       "    </tr>\n",
       "    <tr>\n",
       "      <th>3</th>\n",
       "      <td>4</td>\n",
       "      <td>40</td>\n",
       "      <td>0.035678</td>\n",
       "    </tr>\n",
       "    <tr>\n",
       "      <th>4</th>\n",
       "      <td>5</td>\n",
       "      <td>50</td>\n",
       "      <td>0.025339</td>\n",
       "    </tr>\n",
       "    <tr>\n",
       "      <th>...</th>\n",
       "      <td>...</td>\n",
       "      <td>...</td>\n",
       "      <td>...</td>\n",
       "    </tr>\n",
       "    <tr>\n",
       "      <th>85</th>\n",
       "      <td>86</td>\n",
       "      <td>860</td>\n",
       "      <td>0.010508</td>\n",
       "    </tr>\n",
       "    <tr>\n",
       "      <th>86</th>\n",
       "      <td>87</td>\n",
       "      <td>870</td>\n",
       "      <td>0.010466</td>\n",
       "    </tr>\n",
       "    <tr>\n",
       "      <th>87</th>\n",
       "      <td>88</td>\n",
       "      <td>880</td>\n",
       "      <td>0.010212</td>\n",
       "    </tr>\n",
       "    <tr>\n",
       "      <th>88</th>\n",
       "      <td>89</td>\n",
       "      <td>890</td>\n",
       "      <td>0.010381</td>\n",
       "    </tr>\n",
       "    <tr>\n",
       "      <th>89</th>\n",
       "      <td>90</td>\n",
       "      <td>900</td>\n",
       "      <td>0.010466</td>\n",
       "    </tr>\n",
       "  </tbody>\n",
       "</table>\n",
       "<p>90 rows × 3 columns</p>\n",
       "</div>"
      ],
      "text/plain": [
       "    SVM Number  Number of Samples  AVG Test Error\n",
       "0            1                 10        0.156949\n",
       "1            2                 20        0.074788\n",
       "2            3                 30        0.055339\n",
       "3            4                 40        0.035678\n",
       "4            5                 50        0.025339\n",
       "..         ...                ...             ...\n",
       "85          86                860        0.010508\n",
       "86          87                870        0.010466\n",
       "87          88                880        0.010212\n",
       "88          89                890        0.010381\n",
       "89          90                900        0.010466\n",
       "\n",
       "[90 rows x 3 columns]"
      ]
     },
     "metadata": {},
     "output_type": "display_data"
    }
   ],
   "source": [
    "error_df = pd.DataFrame()\n",
    "\n",
    "for m in tqdm(range(0, 50)):\n",
    "    accu = []\n",
    "\n",
    "    test_data = bank.sample(472, random_state=rand.randint(0, 100))\n",
    "    index_test = test_data.index\n",
    "    \n",
    "    train_data = bank.drop(index=index_test)\n",
    "    test_data = test_data.reset_index(drop=True)\n",
    "    test_data_x = test_data.drop('class', axis=1)\n",
    "    test_data_y = test_data['class']\n",
    "\n",
    "    accu_df = pd.DataFrame()\n",
    "\n",
    "    i = StratifiedKFold(n_splits=90)\n",
    "\n",
    "    train_data_x = train_data.drop(['class'], axis=1).reset_index(drop=True)\n",
    "    train_data_y = train_data['class'].reset_index(drop=True)\n",
    "\n",
    "    for train_index, test_index in i.split(train_data_x, train_data_y):\n",
    "        split_10_x, split_10_y = train_data_x.iloc[test_index], train_data_y.iloc[test_index]\n",
    "        temp_df = pd.concat([split_10_x, split_10_y], axis=1)\n",
    "        accu_df = pd.concat([accu_df, temp_df], axis=0)\n",
    "\n",
    "        accu_df_x = accu_df.drop('class', axis=1)\n",
    "        accu_df_y = accu_df['class']\n",
    "\n",
    "        parameters = [{'C': [0.001, 0.1, 1, 10, 100, 1000], 'max_iter': [2000]}]\n",
    "\n",
    "        clf = GridSearchCV(LinearSVC(penalty='l1', loss='squared_hinge', dual=False), parameters, cv=5)\n",
    "        clf.fit(accu_df_x, accu_df_y)\n",
    "\n",
    "        pred_y = clf.predict(test_data_x)\n",
    "\n",
    "        accu.append(accuracy_score(test_data_y, pred_y))\n",
    "\n",
    "    column_values = pd.Series(accu)\n",
    "    error_df.insert(loc=m, column=m, value=column_values)\n",
    "\n",
    "svm_num = range(1, 91)\n",
    "samples_num = list(range(10, 910, 10))\n",
    "result_passive = pd.DataFrame({\"SVM Number\": svm_num, \"Number of Samples\": samples_num, \"AVG Test Error\": error_df.mean(axis=1)})\n",
    "result_passive['AVG Test Error'] = result_passive['AVG Test Error'].apply(lambda x: 1 - x)\n",
    "display(result_passive)"
   ]
  },
  {
   "cell_type": "markdown",
   "metadata": {},
   "source": [
    "#### (ii) Active"
   ]
  },
  {
   "cell_type": "code",
   "execution_count": 66,
   "metadata": {},
   "outputs": [
    {
     "name": "stderr",
     "output_type": "stream",
     "text": [
      "100%|██████████| 50/50 [10:54<00:00, 13.10s/it]\n"
     ]
    },
    {
     "data": {
      "text/html": [
       "<div>\n",
       "<style scoped>\n",
       "    .dataframe tbody tr th:only-of-type {\n",
       "        vertical-align: middle;\n",
       "    }\n",
       "\n",
       "    .dataframe tbody tr th {\n",
       "        vertical-align: top;\n",
       "    }\n",
       "\n",
       "    .dataframe thead th {\n",
       "        text-align: right;\n",
       "    }\n",
       "</style>\n",
       "<table border=\"1\" class=\"dataframe\">\n",
       "  <thead>\n",
       "    <tr style=\"text-align: right;\">\n",
       "      <th></th>\n",
       "      <th>SVM Number</th>\n",
       "      <th>Number of Samples</th>\n",
       "      <th>AVG Test Error</th>\n",
       "    </tr>\n",
       "  </thead>\n",
       "  <tbody>\n",
       "    <tr>\n",
       "      <th>0</th>\n",
       "      <td>1</td>\n",
       "      <td>10</td>\n",
       "      <td>0.162331</td>\n",
       "    </tr>\n",
       "    <tr>\n",
       "      <th>1</th>\n",
       "      <td>2</td>\n",
       "      <td>20</td>\n",
       "      <td>0.079153</td>\n",
       "    </tr>\n",
       "    <tr>\n",
       "      <th>2</th>\n",
       "      <td>3</td>\n",
       "      <td>30</td>\n",
       "      <td>0.063559</td>\n",
       "    </tr>\n",
       "    <tr>\n",
       "      <th>3</th>\n",
       "      <td>4</td>\n",
       "      <td>40</td>\n",
       "      <td>0.038051</td>\n",
       "    </tr>\n",
       "    <tr>\n",
       "      <th>4</th>\n",
       "      <td>5</td>\n",
       "      <td>50</td>\n",
       "      <td>0.024407</td>\n",
       "    </tr>\n",
       "    <tr>\n",
       "      <th>...</th>\n",
       "      <td>...</td>\n",
       "      <td>...</td>\n",
       "      <td>...</td>\n",
       "    </tr>\n",
       "    <tr>\n",
       "      <th>85</th>\n",
       "      <td>86</td>\n",
       "      <td>860</td>\n",
       "      <td>0.011144</td>\n",
       "    </tr>\n",
       "    <tr>\n",
       "      <th>86</th>\n",
       "      <td>87</td>\n",
       "      <td>870</td>\n",
       "      <td>0.011271</td>\n",
       "    </tr>\n",
       "    <tr>\n",
       "      <th>87</th>\n",
       "      <td>88</td>\n",
       "      <td>880</td>\n",
       "      <td>0.011144</td>\n",
       "    </tr>\n",
       "    <tr>\n",
       "      <th>88</th>\n",
       "      <td>89</td>\n",
       "      <td>890</td>\n",
       "      <td>0.011314</td>\n",
       "    </tr>\n",
       "    <tr>\n",
       "      <th>89</th>\n",
       "      <td>90</td>\n",
       "      <td>900</td>\n",
       "      <td>0.011229</td>\n",
       "    </tr>\n",
       "  </tbody>\n",
       "</table>\n",
       "<p>90 rows × 3 columns</p>\n",
       "</div>"
      ],
      "text/plain": [
       "    SVM Number  Number of Samples  AVG Test Error\n",
       "0            1                 10        0.162331\n",
       "1            2                 20        0.079153\n",
       "2            3                 30        0.063559\n",
       "3            4                 40        0.038051\n",
       "4            5                 50        0.024407\n",
       "..         ...                ...             ...\n",
       "85          86                860        0.011144\n",
       "86          87                870        0.011271\n",
       "87          88                880        0.011144\n",
       "88          89                890        0.011314\n",
       "89          90                900        0.011229\n",
       "\n",
       "[90 rows x 3 columns]"
      ]
     },
     "metadata": {},
     "output_type": "display_data"
    }
   ],
   "source": [
    "error_df = pd.DataFrame()\n",
    "\n",
    "for m in tqdm(range(0, 50)):\n",
    "    accu = []\n",
    "\n",
    "    test_data = bank.sample(472, random_state=rand.randint(0, 100))\n",
    "    index_test = test_data.index\n",
    "\n",
    "    train_data = bank.drop(index=index_test)\n",
    "    test_data = test_data.reset_index(drop=True)\n",
    "    test_data_x = test_data.drop('class', axis=1)\n",
    "    test_data_y = test_data['class']\n",
    "\n",
    "    accu_df = pd.DataFrame()\n",
    "\n",
    "    i = StratifiedKFold(n_splits=90)\n",
    "\n",
    "    train_data_x = train_data.drop(['class'], axis=1).reset_index(drop=True)\n",
    "    train_data_y = train_data['class'].reset_index(drop=True)\n",
    "\n",
    "    pool = np.arange(len(train_data))\n",
    "\n",
    "    for train_index, test_index in i.split(train_data_x, train_data_y):\n",
    "        split_10_x, split_10_y = train_data_x.iloc[test_index], train_data_y.iloc[test_index]\n",
    "        temp_df = pd.concat([split_10_x, split_10_y], axis=1)\n",
    "        accu_df = pd.concat([accu_df, temp_df], axis=0)\n",
    "\n",
    "        accu_df_x = accu_df.drop('class', axis=1)\n",
    "        accu_df_y = accu_df['class']\n",
    "\n",
    "        parameters = [{'C': [0.001, 0.1, 1, 10, 100, 1000], 'max_iter': [2000]}]\n",
    "\n",
    "        clf = GridSearchCV(LinearSVC(penalty='l1', loss='squared_hinge', dual=False), parameters, cv=5)\n",
    "        clf.fit(accu_df_x, accu_df_y)\n",
    "\n",
    "        pred_y = clf.predict(test_data_x)\n",
    "\n",
    "        accu.append(accuracy_score(test_data_y, pred_y))\n",
    "\n",
    "        coefficients = clf.best_estimator_.coef_[0]\n",
    "        distances = np.abs(np.dot(accu_df_x, coefficients) + clf.best_estimator_.intercept_)\n",
    "        closest_indices = np.argsort(distances)[:10]\n",
    "\n",
    "        pool = np.concatenate((pool, accu_df_x.index[closest_indices]))\n",
    "\n",
    "    column_values = pd.Series(accu)\n",
    "    error_df.insert(loc=m, column=m, value=column_values)\n",
    "\n",
    "svm_num = range(1, 91)\n",
    "samples_num = list(range(10, 910, 10))\n",
    "result_active = pd.DataFrame({\"SVM Number\": svm_num, \"Number of Samples\": samples_num, \"AVG Test Error\": error_df.mean(axis=1)})\n",
    "result_active['AVG Test Error'] = result_active['AVG Test Error'].apply(lambda x: 1 - x)\n",
    "display(result_active)"
   ]
  },
  {
   "cell_type": "markdown",
   "metadata": {},
   "source": [
    "### (c) Average the 50 test errors"
   ]
  },
  {
   "cell_type": "code",
   "execution_count": 68,
   "metadata": {},
   "outputs": [
    {
     "data": {
      "image/png": "[encoded data removed]",
      "text/plain": [
       "<Figure size 720x432 with 1 Axes>"
      ]
     },
     "metadata": {
      "needs_background": "light"
     },
     "output_type": "display_data"
    }
   ],
   "source": [
    "passive_avg_error = result_passive.groupby('Number of Samples')['AVG Test Error'].mean()\n",
    "active_avg_error = result_active.groupby('Number of Samples')['AVG Test Error'].mean()\n",
    "\n",
    "plt.figure(figsize=(10, 6))\n",
    "plt.plot(passive_avg_error.index, passive_avg_error, label='Passive Learning')\n",
    "plt.plot(active_avg_error.index, active_avg_error, label='Active Learning')\n",
    "plt.title('Learning Curve: Passive vs Active Learning')\n",
    "plt.xlabel('Number of Training Instances')\n",
    "plt.ylabel('Average Test Error')\n",
    "plt.legend()\n",
    "plt.grid(True)\n",
    "plt.show()"
   ]
  },
  {
   "cell_type": "code",
   "execution_count": null,
   "metadata": {},
   "outputs": [],
   "source": []
  }
 ],
 "metadata": {
  "kernelspec": {
   "display_name": "Python 3",
   "language": "python",
   "name": "python3"
  },
  "language_info": {
   "codemirror_mode": {
    "name": "ipython",
    "version": 3
   },
   "file_extension": ".py",
   "mimetype": "text/x-python",
   "name": "python",
   "nbconvert_exporter": "python",
   "pygments_lexer": "ipython3",
   "version": "3.9.7"
  },
  "orig_nbformat": 4,
  "vscode": {
   "interpreter": {
    "hash": "3c20c2d94d2527936fe0f3a300eb11db30fed84423423838e2f93b74eb7aaebc"
   }
  }
 },
 "nbformat": 4,
 "nbformat_minor": 2
}
